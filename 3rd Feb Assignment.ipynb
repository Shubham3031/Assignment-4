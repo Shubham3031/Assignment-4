{
 "cells": [
  {
   "cell_type": "code",
   "execution_count": 19,
   "id": "b5a797c3-8622-4723-bac8-d3846da79992",
   "metadata": {},
   "outputs": [],
   "source": [
    "# 1.Ans.\n",
    "   # def\n",
    "def get_odd_numbers():\n",
    "    l = []\n",
    "    for i in range(1,26):\n",
    "        if i % 2 != 0:\n",
    "            l.append(i)\n",
    "    return l\n",
    "    "
   ]
  },
  {
   "cell_type": "code",
   "execution_count": 20,
   "id": "65f33aa2-312b-4a2a-be6f-1e9a7e642fdb",
   "metadata": {},
   "outputs": [
    {
     "name": "stdout",
     "output_type": "stream",
     "text": [
      "[1, 3, 5, 7, 9, 11, 13, 15, 17, 19, 21, 23, 25]\n"
     ]
    }
   ],
   "source": [
    "l = get_odd_numbers()\n",
    "print(l)"
   ]
  },
  {
   "cell_type": "code",
   "execution_count": 21,
   "id": "82fe9970-f049-415a-b631-9e65643389e6",
   "metadata": {},
   "outputs": [],
   "source": [
    "# 2.Ans.\n",
    "\"\"\"\n",
    "The special syntax *args in function definitions in python is used to\n",
    "pass a variable number of arguments to a function.\n",
    "It is used to pass a non-key worded, variable-length argument list.\n",
    "\n",
    "The special syntax **kwargs in function definitions in python is used to\n",
    "pass a keyworded, variable-length argument list. \n",
    "\"\"\"\n",
    "\n",
    "  # Function for *args \n",
    "\n",
    "def test(*args):\n",
    "    return args\n",
    "    \n"
   ]
  },
  {
   "cell_type": "code",
   "execution_count": 22,
   "id": "48d1213c-2b6f-42bd-8d03-b2fece827daf",
   "metadata": {},
   "outputs": [
    {
     "data": {
      "text/plain": [
       "(1, 2, 3)"
      ]
     },
     "execution_count": 22,
     "metadata": {},
     "output_type": "execute_result"
    }
   ],
   "source": [
    "test(1,2,3)"
   ]
  },
  {
   "cell_type": "code",
   "execution_count": 23,
   "id": "c8116059-ee1e-4ec9-b38c-8e70b95b7c4d",
   "metadata": {},
   "outputs": [],
   "source": [
    "# Function for **kwargs\n",
    "def test(**kwargs):\n",
    "    return kwargs"
   ]
  },
  {
   "cell_type": "code",
   "execution_count": 24,
   "id": "dacf241f-7c46-4385-931e-8ec3c0e72a8a",
   "metadata": {},
   "outputs": [
    {
     "data": {
      "text/plain": [
       "{'a': [1, 2, 3, 4], 'b': 'abc', 'c': 4, 'd': 4.5}"
      ]
     },
     "execution_count": 24,
     "metadata": {},
     "output_type": "execute_result"
    }
   ],
   "source": [
    "test( a = [1,2,3,4],b = \"abc\", c = 4, d = 4.5)"
   ]
  },
  {
   "cell_type": "code",
   "execution_count": 25,
   "id": "3b7a7299-4d3d-47c8-ab08-05dc6c20db6e",
   "metadata": {},
   "outputs": [
    {
     "name": "stdout",
     "output_type": "stream",
     "text": [
      "2\n",
      "4\n",
      "6\n",
      "8\n",
      "10\n"
     ]
    }
   ],
   "source": [
    "# 3.Ans.\n",
    "\"\"\"\n",
    "An iterator is an object that contains a countable number of values.\n",
    "An iterator is an object that can be iterated upon, \n",
    "meaning that you can traverse through all the values.\n",
    "\n",
    "The iterator object is initialized using the iter() method. \n",
    "It uses the next() method for iteration.\n",
    "\n",
    "__iter__(): The iter() method is called for the initialization of an iterator.\n",
    "            This returns an iterator object\n",
    "__next__(): The next method returns the next value for the iterable.\n",
    "\"\"\"\n",
    "list =  [2, 4, 6, 8, 10, 12, 14, 16, 18, 20]\n",
    "iterator = iter(list)\n",
    "print(next(iterator))\n",
    "print(next(iterator))\n",
    "print(next(iterator))\n",
    "print(next(iterator))\n",
    "print(next(iterator))\n",
    "\n",
    "    \n",
    "\n",
    "\n"
   ]
  },
  {
   "cell_type": "code",
   "execution_count": 79,
   "id": "be1f6f0e-f02d-42f2-a1fa-3d21c4fc7dcf",
   "metadata": {},
   "outputs": [],
   "source": [
    "# 4.Ans.\n",
    "\"\"\"\n",
    "In Python, a generator is a function that returns an iterator \n",
    "that produces a sequence of values when iterated over.\n",
    "\n",
    "The yield keyword is used to produce a value from the generator.\n",
    "\"\"\"\n",
    "\n",
    "# Example of Generator Function\n",
    "  To print Fibonacci series\n",
    "\n",
    "def test_fib(n):\n",
    "    a , b = 0,1\n",
    "    for i in range(n):\n",
    "        yield a\n",
    "        a , b = b , a+b\n",
    "        \n",
    "\n",
    "        \n"
   ]
  },
  {
   "cell_type": "code",
   "execution_count": 76,
   "id": "6e60ef34-f353-4931-896b-3afe6febdccd",
   "metadata": {},
   "outputs": [
    {
     "name": "stdout",
     "output_type": "stream",
     "text": [
      "2\n",
      "3\n",
      "5\n",
      "7\n",
      "11\n",
      "13\n",
      "17\n",
      "19\n",
      "23\n",
      "29\n",
      "31\n",
      "37\n",
      "41\n",
      "43\n",
      "47\n",
      "53\n",
      "59\n",
      "61\n",
      "67\n",
      "71\n"
     ]
    }
   ],
   "source": [
    "# 5.Ans.\n",
    "def prime_numbers():\n",
    "    yield 2\n",
    "    primes = [2]\n",
    "    for i in range(3, 1000):\n",
    "        is_prime = True\n",
    "        for prime in primes:\n",
    "            if prime > (i ** 0.5):\n",
    "                break\n",
    "            if (i % prime) == 0:\n",
    "                is_prime = False\n",
    "                break\n",
    "        if is_prime:\n",
    "            primes.append(i)\n",
    "            yield i\n",
    "prime_gen = prime_numbers()\n",
    "for i in range(20):\n",
    "    print(next(prime_gen))\n",
    "\n"
   ]
  },
  {
   "cell_type": "code",
   "execution_count": 34,
   "id": "414a99d1-b5d6-4ca5-a0bb-980b2060d724",
   "metadata": {},
   "outputs": [
    {
     "name": "stdout",
     "output_type": "stream",
     "text": [
      "0\n",
      "1\n",
      "1\n",
      "2\n",
      "3\n",
      "5\n",
      "8\n",
      "13\n",
      "21\n",
      "34\n"
     ]
    }
   ],
   "source": [
    "# 6.Ans.\n",
    "n = 10\n",
    "a,b = 0,1\n",
    "count = 0\n",
    "while count < n:\n",
    "    print(a)\n",
    "    c = a+b\n",
    "    a = b\n",
    "    b = c\n",
    "    count+=1\n",
    "    \n"
   ]
  },
  {
   "cell_type": "code",
   "execution_count": 44,
   "id": "745431f2-cbaa-428c-9528-21c83175d42e",
   "metadata": {},
   "outputs": [
    {
     "name": "stdout",
     "output_type": "stream",
     "text": [
      "['p', 'w', 's', 'k', 'i', 'l', 'l', 's']\n"
     ]
    }
   ],
   "source": [
    "# 7.Ans.\n",
    "str = \"pwskills\"\n",
    "characters = [char for char in str]\n",
    "print(characters)\n",
    "\n",
    "\n",
    "  "
   ]
  },
  {
   "cell_type": "code",
   "execution_count": 50,
   "id": "2921a248-6338-48a0-95a9-0daae44d4b27",
   "metadata": {},
   "outputs": [
    {
     "name": "stdin",
     "output_type": "stream",
     "text": [
      "Enter a number 121\n"
     ]
    },
    {
     "name": "stdout",
     "output_type": "stream",
     "text": [
      "Number is Palindrome\n"
     ]
    }
   ],
   "source": [
    "# 8.Ans.\n",
    "n = int(input(\"Enter a number\"))\n",
    "temp = n\n",
    "reverse = 0\n",
    "while(n>0):\n",
    "    digit = n%10\n",
    "    reverse = reverse*10+digit\n",
    "    n = n//10\n",
    "if(temp == reverse):\n",
    "    print(\"Number is Palindrome\")\n",
    "else:\n",
    "    print(\"Number is not palindrome\")"
   ]
  },
  {
   "cell_type": "code",
   "execution_count": 64,
   "id": "169872c2-ab88-454e-bf41-9195d6602195",
   "metadata": {},
   "outputs": [
    {
     "name": "stdout",
     "output_type": "stream",
     "text": [
      "[1, 3, 5, 7, 9, 11, 13, 15, 17, 19, 21, 23, 25, 27, 29, 31, 33, 35, 37, 39, 41, 43, 45, 47, 49, 51, 53, 55, 57, 59, 61, 63, 65, 67, 69, 71, 73, 75, 77, 79, 81, 83, 85, 87, 89, 91, 93, 95, 97, 99]\n"
     ]
    }
   ],
   "source": [
    "# 9.Ans.\n",
    "\n",
    "Odd_numbers = [n for n in range(1,101) if n % 2 != 0]\n",
    "print(Odd_numbers)\n",
    "\n",
    "    \n",
    "     \n",
    "\n",
    "    "
   ]
  }
 ],
 "metadata": {
  "kernelspec": {
   "display_name": "Python 3 (ipykernel)",
   "language": "python",
   "name": "python3"
  },
  "language_info": {
   "codemirror_mode": {
    "name": "ipython",
    "version": 3
   },
   "file_extension": ".py",
   "mimetype": "text/x-python",
   "name": "python",
   "nbconvert_exporter": "python",
   "pygments_lexer": "ipython3",
   "version": "3.10.6"
  }
 },
 "nbformat": 4,
 "nbformat_minor": 5
}
